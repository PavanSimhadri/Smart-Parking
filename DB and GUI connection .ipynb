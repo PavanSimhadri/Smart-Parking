{
 "cells": [
  {
   "cell_type": "code",
   "execution_count": 1,
   "metadata": {},
   "outputs": [
    {
     "name": "stdout",
     "output_type": "stream",
     "text": [
      "3\n",
      "2\n",
      "2\n",
      "1\n"
     ]
    },
    {
     "ename": "KeyboardInterrupt",
     "evalue": "",
     "output_type": "error",
     "traceback": [
      "\u001b[1;31m---------------------------------------------------------------------------\u001b[0m",
      "\u001b[1;31mKeyboardInterrupt\u001b[0m                         Traceback (most recent call last)",
      "\u001b[1;32m<ipython-input-1-760de0024cff>\u001b[0m in \u001b[0;36m<module>\u001b[1;34m\u001b[0m\n\u001b[0;32m     78\u001b[0m                 \u001b[0mx1\u001b[0m\u001b[1;33m+=\u001b[0m\u001b[1;36m35\u001b[0m\u001b[1;33m\u001b[0m\u001b[1;33m\u001b[0m\u001b[0m\n\u001b[0;32m     79\u001b[0m                 \u001b[0mx2\u001b[0m\u001b[1;33m+=\u001b[0m\u001b[1;36m35\u001b[0m\u001b[1;33m\u001b[0m\u001b[1;33m\u001b[0m\u001b[0m\n\u001b[1;32m---> 80\u001b[1;33m     \u001b[0mon_message\u001b[0m\u001b[1;33m(\u001b[0m\u001b[1;33m)\u001b[0m\u001b[1;33m\u001b[0m\u001b[1;33m\u001b[0m\u001b[0m\n\u001b[0m",
      "\u001b[1;32m<ipython-input-1-760de0024cff>\u001b[0m in \u001b[0;36mon_message\u001b[1;34m()\u001b[0m\n\u001b[0;32m     30\u001b[0m                 \u001b[0mdummy\u001b[0m\u001b[1;33m=\u001b[0m\u001b[0mcanvas\u001b[0m\u001b[1;33m.\u001b[0m\u001b[0mcreate_rectangle\u001b[0m\u001b[1;33m(\u001b[0m\u001b[0mrec_cor\u001b[0m\u001b[1;33m[\u001b[0m\u001b[0mi\u001b[0m\u001b[1;33m-\u001b[0m\u001b[1;36m1\u001b[0m\u001b[1;33m]\u001b[0m\u001b[1;33m,\u001b[0m\u001b[0mfill\u001b[0m\u001b[1;33m=\u001b[0m\u001b[1;34m'green'\u001b[0m\u001b[1;33m)\u001b[0m\u001b[1;33m\u001b[0m\u001b[1;33m\u001b[0m\u001b[0m\n\u001b[0;32m     31\u001b[0m             \u001b[0mcanvas\u001b[0m\u001b[1;33m.\u001b[0m\u001b[0mupdate\u001b[0m\u001b[1;33m(\u001b[0m\u001b[1;33m)\u001b[0m\u001b[1;33m\u001b[0m\u001b[1;33m\u001b[0m\u001b[0m\n\u001b[1;32m---> 32\u001b[1;33m         \u001b[0mcanvas\u001b[0m\u001b[1;33m.\u001b[0m\u001b[0mmainloop\u001b[0m\u001b[1;33m(\u001b[0m\u001b[1;33m)\u001b[0m\u001b[1;33m\u001b[0m\u001b[1;33m\u001b[0m\u001b[0m\n\u001b[0m\u001b[0;32m     33\u001b[0m \u001b[1;32mimport\u001b[0m \u001b[0mtkinter\u001b[0m \u001b[1;32mas\u001b[0m \u001b[0mtk\u001b[0m\u001b[1;33m\u001b[0m\u001b[1;33m\u001b[0m\u001b[0m\n\u001b[0;32m     34\u001b[0m \u001b[1;32mimport\u001b[0m \u001b[0mmysql\u001b[0m\u001b[1;33m.\u001b[0m\u001b[0mconnector\u001b[0m\u001b[1;33m\u001b[0m\u001b[1;33m\u001b[0m\u001b[0m\n",
      "\u001b[1;32mC:\\ProgramData\\Anaconda3\\lib\\tkinter\\__init__.py\u001b[0m in \u001b[0;36mmainloop\u001b[1;34m(self, n)\u001b[0m\n\u001b[0;32m   1418\u001b[0m     \u001b[1;32mdef\u001b[0m \u001b[0mmainloop\u001b[0m\u001b[1;33m(\u001b[0m\u001b[0mself\u001b[0m\u001b[1;33m,\u001b[0m \u001b[0mn\u001b[0m\u001b[1;33m=\u001b[0m\u001b[1;36m0\u001b[0m\u001b[1;33m)\u001b[0m\u001b[1;33m:\u001b[0m\u001b[1;33m\u001b[0m\u001b[1;33m\u001b[0m\u001b[0m\n\u001b[0;32m   1419\u001b[0m         \u001b[1;34m\"\"\"Call the mainloop of Tk.\"\"\"\u001b[0m\u001b[1;33m\u001b[0m\u001b[1;33m\u001b[0m\u001b[0m\n\u001b[1;32m-> 1420\u001b[1;33m         \u001b[0mself\u001b[0m\u001b[1;33m.\u001b[0m\u001b[0mtk\u001b[0m\u001b[1;33m.\u001b[0m\u001b[0mmainloop\u001b[0m\u001b[1;33m(\u001b[0m\u001b[0mn\u001b[0m\u001b[1;33m)\u001b[0m\u001b[1;33m\u001b[0m\u001b[1;33m\u001b[0m\u001b[0m\n\u001b[0m\u001b[0;32m   1421\u001b[0m \u001b[1;33m\u001b[0m\u001b[0m\n\u001b[0;32m   1422\u001b[0m     \u001b[1;32mdef\u001b[0m \u001b[0mquit\u001b[0m\u001b[1;33m(\u001b[0m\u001b[0mself\u001b[0m\u001b[1;33m)\u001b[0m\u001b[1;33m:\u001b[0m\u001b[1;33m\u001b[0m\u001b[1;33m\u001b[0m\u001b[0m\n",
      "\u001b[1;31mKeyboardInterrupt\u001b[0m: "
     ]
    }
   ],
   "source": [
    "def on_message():\n",
    "    for i in range(100):\n",
    "        query=\"\"\"UPDATE Sensor_dATA SET Sensor_Value = %s WHERE Sensor_Number = %s\"\"\"\n",
    "        ctr=random.randint(1,6)\n",
    "        print(ctr)\n",
    "        string='parking/ground/'+str(ctr)\n",
    "        cur.execute(query,(1,string))\n",
    "        cnx.commit()\n",
    "        query=\"SELECT * FROM sensor_data\"\n",
    "        cur.execute(query)\n",
    "        cnx.commit()\n",
    "        val=[i for i in (1,81)]\n",
    "        num=[0 for i in range(80)]\n",
    "        for i in cur:\n",
    "            num[int(i[0][-1])]=int(i[1])\n",
    "            val.append(i[1])\n",
    "            num.append(int(i[0][-1]))\n",
    "        data=dict(zip(num,val))\n",
    "        width, height = pyautogui.size()\n",
    "        canvas = tk.Canvas(width=width,height=height)\n",
    "        canvas.pack(fill=tk.BOTH, expand=1)\n",
    "        for i in range(len(rec_cor)):\n",
    "            r=canvas.create_rectangle(rec_cor[i],fill='green')\n",
    "            canvas.update()\n",
    "        for i in data:\n",
    "            #print(i,data[i])\n",
    "            if(data[i]==1):\n",
    "                dummy=canvas.create_rectangle(rec_cor[i-1],fill='red')\n",
    "            else:\n",
    "                dummy=canvas.create_rectangle(rec_cor[i-1],fill='green')\n",
    "            canvas.update()\n",
    "        canvas.mainloop()\n",
    "import tkinter as tk\n",
    "import mysql.connector\n",
    "from mysql.connector import errorcode\n",
    "import pyautogui\n",
    "from PIL import ImageTk, Image\n",
    "import mysql.connector\n",
    "import time\n",
    "import random\n",
    "from mysql.connector import errorcode\n",
    "while(1):\n",
    "    try:\n",
    "        cnx = mysql.connector.connect(user='root',password='0013',\n",
    "                                  host='127.0.0.1',\n",
    "                                    database='smartparking')\n",
    "        cur=cnx.cursor(buffered=True)\n",
    "    except mysql.connector.Error as err:\n",
    "\n",
    "        if err.errno == errorcode.ER_ACCESS_DENIED_ERROR:\n",
    "            print(\"Something is wrong with your user name or password\")\n",
    "        elif err.errno == errorcode.ER_BAD_DB_ERROR:\n",
    "            print(\"Database does not exist\")\n",
    "        else:\n",
    "            print(err)\n",
    "    rectangle=[0 for i in range(0,80)]\n",
    "    rec_cor=[]    \n",
    "    ctr=0\n",
    "    for l in range(4):\n",
    "        if(l==0):\n",
    "            y1,y2=250,320\n",
    "        elif(l==1):\n",
    "            y1,y2=400,480\n",
    "        elif(l==2):\n",
    "            y1,y2=500,580\n",
    "        else:\n",
    "            y1,y2=650,730\n",
    "        x1=30\n",
    "        x2=100\n",
    "        for i in range(4):\n",
    "            for k in range(4):\n",
    "                #rectangle[ctr]=canvas.create_rectangle((x1,y1,x2,y2),fill='green')\n",
    "                rec_cor.append([x1,y1,x2,y2])\n",
    "                ctr+=1\n",
    "                x1+=80\n",
    "                x2+=80\n",
    "            for j in range(1):\n",
    "                x1+=35\n",
    "                x2+=35\n",
    "    on_message()"
   ]
  },
  {
   "cell_type": "code",
   "execution_count": null,
   "metadata": {},
   "outputs": [],
   "source": []
  }
 ],
 "metadata": {
  "kernelspec": {
   "display_name": "Python 3",
   "language": "python",
   "name": "python3"
  },
  "language_info": {
   "codemirror_mode": {
    "name": "ipython",
    "version": 3
   },
   "file_extension": ".py",
   "mimetype": "text/x-python",
   "name": "python",
   "nbconvert_exporter": "python",
   "pygments_lexer": "ipython3",
   "version": "3.8.5"
  }
 },
 "nbformat": 4,
 "nbformat_minor": 4
}
